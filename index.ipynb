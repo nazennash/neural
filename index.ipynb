{
 "cells": [
  {
   "cell_type": "code",
   "execution_count": 41,
   "metadata": {},
   "outputs": [],
   "source": [
    "import numpy as np\n",
    "from random import randint\n",
    "from sklearn.utils import shuffle"
   ]
  },
  {
   "cell_type": "code",
   "execution_count": 42,
   "metadata": {},
   "outputs": [],
   "source": [
    "train_labels = []   #target\n",
    "train_samples = []  #input"
   ]
  },
  {
   "cell_type": "code",
   "execution_count": 43,
   "metadata": {},
   "outputs": [],
   "source": [
    "# 1 - side effect, 0 - no side effect\n",
    "for i in range(50):\n",
    "    random_younger = randint(13,64)\n",
    "    train_samples.append(random_younger)\n",
    "    train_labels.append(1)\n",
    "\n",
    "    random_older = randint(65,100)\n",
    "    train_samples.append(random_older)\n",
    "    train_labels.append(0)\n",
    "\n",
    "for i in range(1000):\n",
    "    random_younger = randint(13,64)\n",
    "    train_samples.append(random_younger)\n",
    "    train_labels.append(0)\n",
    "\n",
    "    random_older = randint(65,100)\n",
    "    train_samples.append(random_older)\n",
    "    train_labels.append(1)\n"
   ]
  },
  {
   "cell_type": "code",
   "execution_count": 44,
   "metadata": {},
   "outputs": [
    {
     "name": "stdout",
     "output_type": "stream",
     "text": [
      "<class 'list'>\n",
      "<class 'list'>\n"
     ]
    }
   ],
   "source": [
    "print(type(train_labels))\n",
    "print(type(train_samples))"
   ]
  },
  {
   "cell_type": "code",
   "execution_count": 57,
   "metadata": {},
   "outputs": [
    {
     "name": "stdout",
     "output_type": "stream",
     "text": [
      "<class 'numpy.ndarray'>\n",
      "<class 'numpy.ndarray'>\n"
     ]
    }
   ],
   "source": [
    "train_labels = np.array(train_labels)\n",
    "train_samples = np.array(train_samples)\n",
    "train_labels, train_samples = shuffle(train_labels, train_samples)\n",
    "\n",
    "print(type(train_samples))\n",
    "print(type(train_labels))\n"
   ]
  },
  {
   "cell_type": "code",
   "execution_count": 53,
   "metadata": {},
   "outputs": [],
   "source": [
    "#save in a csv file\n",
    "\n",
    "import pandas as pd\n",
    "df = pd.DataFrame(train_samples, train_labels)\n",
    "df.to_csv('train.csv', index=False)\n"
   ]
  },
  {
   "cell_type": "code",
   "execution_count": 58,
   "metadata": {},
   "outputs": [],
   "source": [
    "from sklearn.preprocessing import MinMaxScaler\n",
    "\n",
    "\n",
    "scaler = MinMaxScaler(feature_range=(0,1))\n",
    "scaled_train_samples = scaler.fit_transform(train_samples.reshape(-1,1))\n",
    "\n",
    "df = pd.DataFrame(scaled_train_samples, train_labels)\n",
    "df.to_csv('train1.csv', index=False)"
   ]
  },
  {
   "cell_type": "code",
   "execution_count": 59,
   "metadata": {},
   "outputs": [],
   "source": [
    "import tensorflow as tf\n",
    "from tensorflow import keras\n",
    "from tensorflow.keras.models import Sequential\n",
    "from tensorflow.keras.layers import Activation, Dense\n",
    "from tensorflow.keras.optimizers import Adam\n",
    "from tensorflow.keras.metrics import categorical_crossentropy"
   ]
  },
  {
   "cell_type": "code",
   "execution_count": 60,
   "metadata": {},
   "outputs": [
    {
     "name": "stderr",
     "output_type": "stream",
     "text": [
      "c:\\Users\\nash\\Desktop\\neural\\venv\\Lib\\site-packages\\keras\\src\\layers\\core\\dense.py:87: UserWarning: Do not pass an `input_shape`/`input_dim` argument to a layer. When using Sequential models, prefer using an `Input(shape)` object as the first layer in the model instead.\n",
      "  super().__init__(activity_regularizer=activity_regularizer, **kwargs)\n"
     ]
    }
   ],
   "source": [
    "model = Sequential([\n",
    "    Dense(units=16, input_shape=(1,), activation='relu'),\n",
    "    Dense(units=32, activation='relu'),\n",
    "    Dense(units=2, activation='softmax'),\n",
    "])"
   ]
  },
  {
   "cell_type": "code",
   "execution_count": 61,
   "metadata": {},
   "outputs": [
    {
     "data": {
      "text/html": [
       "<pre style=\"white-space:pre;overflow-x:auto;line-height:normal;font-family:Menlo,'DejaVu Sans Mono',consolas,'Courier New',monospace\"><span style=\"font-weight: bold\">Model: \"sequential\"</span>\n",
       "</pre>\n"
      ],
      "text/plain": [
       "\u001b[1mModel: \"sequential\"\u001b[0m\n"
      ]
     },
     "metadata": {},
     "output_type": "display_data"
    },
    {
     "data": {
      "text/html": [
       "<pre style=\"white-space:pre;overflow-x:auto;line-height:normal;font-family:Menlo,'DejaVu Sans Mono',consolas,'Courier New',monospace\">┏━━━━━━━━━━━━━━━━━━━━━━━━━━━━━━━━━┳━━━━━━━━━━━━━━━━━━━━━━━━┳━━━━━━━━━━━━━━━┓\n",
       "┃<span style=\"font-weight: bold\"> Layer (type)                    </span>┃<span style=\"font-weight: bold\"> Output Shape           </span>┃<span style=\"font-weight: bold\">       Param # </span>┃\n",
       "┡━━━━━━━━━━━━━━━━━━━━━━━━━━━━━━━━━╇━━━━━━━━━━━━━━━━━━━━━━━━╇━━━━━━━━━━━━━━━┩\n",
       "│ dense (<span style=\"color: #0087ff; text-decoration-color: #0087ff\">Dense</span>)                   │ (<span style=\"color: #00d7ff; text-decoration-color: #00d7ff\">None</span>, <span style=\"color: #00af00; text-decoration-color: #00af00\">16</span>)             │            <span style=\"color: #00af00; text-decoration-color: #00af00\">32</span> │\n",
       "├─────────────────────────────────┼────────────────────────┼───────────────┤\n",
       "│ dense_1 (<span style=\"color: #0087ff; text-decoration-color: #0087ff\">Dense</span>)                 │ (<span style=\"color: #00d7ff; text-decoration-color: #00d7ff\">None</span>, <span style=\"color: #00af00; text-decoration-color: #00af00\">32</span>)             │           <span style=\"color: #00af00; text-decoration-color: #00af00\">544</span> │\n",
       "├─────────────────────────────────┼────────────────────────┼───────────────┤\n",
       "│ dense_2 (<span style=\"color: #0087ff; text-decoration-color: #0087ff\">Dense</span>)                 │ (<span style=\"color: #00d7ff; text-decoration-color: #00d7ff\">None</span>, <span style=\"color: #00af00; text-decoration-color: #00af00\">2</span>)              │            <span style=\"color: #00af00; text-decoration-color: #00af00\">66</span> │\n",
       "└─────────────────────────────────┴────────────────────────┴───────────────┘\n",
       "</pre>\n"
      ],
      "text/plain": [
       "┏━━━━━━━━━━━━━━━━━━━━━━━━━━━━━━━━━┳━━━━━━━━━━━━━━━━━━━━━━━━┳━━━━━━━━━━━━━━━┓\n",
       "┃\u001b[1m \u001b[0m\u001b[1mLayer (type)                   \u001b[0m\u001b[1m \u001b[0m┃\u001b[1m \u001b[0m\u001b[1mOutput Shape          \u001b[0m\u001b[1m \u001b[0m┃\u001b[1m \u001b[0m\u001b[1m      Param #\u001b[0m\u001b[1m \u001b[0m┃\n",
       "┡━━━━━━━━━━━━━━━━━━━━━━━━━━━━━━━━━╇━━━━━━━━━━━━━━━━━━━━━━━━╇━━━━━━━━━━━━━━━┩\n",
       "│ dense (\u001b[38;5;33mDense\u001b[0m)                   │ (\u001b[38;5;45mNone\u001b[0m, \u001b[38;5;34m16\u001b[0m)             │            \u001b[38;5;34m32\u001b[0m │\n",
       "├─────────────────────────────────┼────────────────────────┼───────────────┤\n",
       "│ dense_1 (\u001b[38;5;33mDense\u001b[0m)                 │ (\u001b[38;5;45mNone\u001b[0m, \u001b[38;5;34m32\u001b[0m)             │           \u001b[38;5;34m544\u001b[0m │\n",
       "├─────────────────────────────────┼────────────────────────┼───────────────┤\n",
       "│ dense_2 (\u001b[38;5;33mDense\u001b[0m)                 │ (\u001b[38;5;45mNone\u001b[0m, \u001b[38;5;34m2\u001b[0m)              │            \u001b[38;5;34m66\u001b[0m │\n",
       "└─────────────────────────────────┴────────────────────────┴───────────────┘\n"
      ]
     },
     "metadata": {},
     "output_type": "display_data"
    },
    {
     "data": {
      "text/html": [
       "<pre style=\"white-space:pre;overflow-x:auto;line-height:normal;font-family:Menlo,'DejaVu Sans Mono',consolas,'Courier New',monospace\"><span style=\"font-weight: bold\"> Total params: </span><span style=\"color: #00af00; text-decoration-color: #00af00\">642</span> (2.51 KB)\n",
       "</pre>\n"
      ],
      "text/plain": [
       "\u001b[1m Total params: \u001b[0m\u001b[38;5;34m642\u001b[0m (2.51 KB)\n"
      ]
     },
     "metadata": {},
     "output_type": "display_data"
    },
    {
     "data": {
      "text/html": [
       "<pre style=\"white-space:pre;overflow-x:auto;line-height:normal;font-family:Menlo,'DejaVu Sans Mono',consolas,'Courier New',monospace\"><span style=\"font-weight: bold\"> Trainable params: </span><span style=\"color: #00af00; text-decoration-color: #00af00\">642</span> (2.51 KB)\n",
       "</pre>\n"
      ],
      "text/plain": [
       "\u001b[1m Trainable params: \u001b[0m\u001b[38;5;34m642\u001b[0m (2.51 KB)\n"
      ]
     },
     "metadata": {},
     "output_type": "display_data"
    },
    {
     "data": {
      "text/html": [
       "<pre style=\"white-space:pre;overflow-x:auto;line-height:normal;font-family:Menlo,'DejaVu Sans Mono',consolas,'Courier New',monospace\"><span style=\"font-weight: bold\"> Non-trainable params: </span><span style=\"color: #00af00; text-decoration-color: #00af00\">0</span> (0.00 B)\n",
       "</pre>\n"
      ],
      "text/plain": [
       "\u001b[1m Non-trainable params: \u001b[0m\u001b[38;5;34m0\u001b[0m (0.00 B)\n"
      ]
     },
     "metadata": {},
     "output_type": "display_data"
    }
   ],
   "source": [
    "model.summary()"
   ]
  },
  {
   "cell_type": "code",
   "execution_count": 64,
   "metadata": {},
   "outputs": [],
   "source": [
    "model.compile(optimizer=Adam(learning_rate=0.0001), loss='sparse_categorical_crossentropy', metrics=['accuracy'])"
   ]
  },
  {
   "cell_type": "code",
   "execution_count": 65,
   "metadata": {},
   "outputs": [
    {
     "name": "stdout",
     "output_type": "stream",
     "text": [
      "Epoch 1/30\n",
      "189/189 - 2s - 11ms/step - accuracy: 0.9376 - loss: 0.2616 - val_accuracy: 0.9524 - val_loss: 0.2104\n",
      "Epoch 2/30\n",
      "189/189 - 0s - 2ms/step - accuracy: 0.9434 - loss: 0.2604 - val_accuracy: 0.9524 - val_loss: 0.2087\n",
      "Epoch 3/30\n",
      "189/189 - 0s - 2ms/step - accuracy: 0.9450 - loss: 0.2591 - val_accuracy: 0.9524 - val_loss: 0.2072\n",
      "Epoch 4/30\n",
      "189/189 - 0s - 2ms/step - accuracy: 0.9429 - loss: 0.2579 - val_accuracy: 0.9524 - val_loss: 0.2064\n",
      "Epoch 5/30\n",
      "189/189 - 0s - 2ms/step - accuracy: 0.9471 - loss: 0.2569 - val_accuracy: 0.9524 - val_loss: 0.2053\n",
      "Epoch 6/30\n",
      "189/189 - 0s - 2ms/step - accuracy: 0.9413 - loss: 0.2560 - val_accuracy: 0.9524 - val_loss: 0.2044\n",
      "Epoch 7/30\n",
      "189/189 - 0s - 2ms/step - accuracy: 0.9471 - loss: 0.2551 - val_accuracy: 0.9524 - val_loss: 0.2035\n",
      "Epoch 8/30\n",
      "189/189 - 0s - 2ms/step - accuracy: 0.9471 - loss: 0.2542 - val_accuracy: 0.9524 - val_loss: 0.2027\n",
      "Epoch 9/30\n",
      "189/189 - 0s - 2ms/step - accuracy: 0.9455 - loss: 0.2535 - val_accuracy: 0.9524 - val_loss: 0.2020\n",
      "Epoch 10/30\n",
      "189/189 - 0s - 2ms/step - accuracy: 0.9460 - loss: 0.2529 - val_accuracy: 0.9524 - val_loss: 0.2014\n",
      "Epoch 11/30\n",
      "189/189 - 0s - 2ms/step - accuracy: 0.9471 - loss: 0.2521 - val_accuracy: 0.9524 - val_loss: 0.2007\n",
      "Epoch 12/30\n",
      "189/189 - 0s - 2ms/step - accuracy: 0.9423 - loss: 0.2514 - val_accuracy: 0.9524 - val_loss: 0.2001\n",
      "Epoch 13/30\n",
      "189/189 - 0s - 2ms/step - accuracy: 0.9455 - loss: 0.2507 - val_accuracy: 0.9524 - val_loss: 0.1996\n",
      "Epoch 14/30\n",
      "189/189 - 2s - 9ms/step - accuracy: 0.9471 - loss: 0.2502 - val_accuracy: 0.9524 - val_loss: 0.1991\n",
      "Epoch 15/30\n",
      "189/189 - 1s - 3ms/step - accuracy: 0.9471 - loss: 0.2494 - val_accuracy: 0.9524 - val_loss: 0.1986\n",
      "Epoch 16/30\n",
      "189/189 - 1s - 3ms/step - accuracy: 0.9460 - loss: 0.2490 - val_accuracy: 0.9524 - val_loss: 0.1980\n",
      "Epoch 17/30\n",
      "189/189 - 1s - 3ms/step - accuracy: 0.9476 - loss: 0.2483 - val_accuracy: 0.9524 - val_loss: 0.1975\n",
      "Epoch 18/30\n",
      "189/189 - 1s - 3ms/step - accuracy: 0.9471 - loss: 0.2479 - val_accuracy: 0.9524 - val_loss: 0.1970\n",
      "Epoch 19/30\n",
      "189/189 - 1s - 3ms/step - accuracy: 0.9471 - loss: 0.2474 - val_accuracy: 0.9524 - val_loss: 0.1966\n",
      "Epoch 20/30\n",
      "189/189 - 2s - 9ms/step - accuracy: 0.9471 - loss: 0.2469 - val_accuracy: 0.9524 - val_loss: 0.1961\n",
      "Epoch 21/30\n",
      "189/189 - 2s - 10ms/step - accuracy: 0.9471 - loss: 0.2465 - val_accuracy: 0.9524 - val_loss: 0.1958\n",
      "Epoch 22/30\n",
      "189/189 - 1s - 6ms/step - accuracy: 0.9471 - loss: 0.2461 - val_accuracy: 0.9524 - val_loss: 0.1953\n",
      "Epoch 23/30\n",
      "189/189 - 1s - 5ms/step - accuracy: 0.9487 - loss: 0.2456 - val_accuracy: 0.9524 - val_loss: 0.1949\n",
      "Epoch 24/30\n",
      "189/189 - 0s - 3ms/step - accuracy: 0.9471 - loss: 0.2449 - val_accuracy: 0.9524 - val_loss: 0.1947\n",
      "Epoch 25/30\n",
      "189/189 - 0s - 2ms/step - accuracy: 0.9471 - loss: 0.2447 - val_accuracy: 0.9524 - val_loss: 0.1944\n",
      "Epoch 26/30\n",
      "189/189 - 0s - 2ms/step - accuracy: 0.9471 - loss: 0.2441 - val_accuracy: 0.9524 - val_loss: 0.1940\n",
      "Epoch 27/30\n",
      "189/189 - 1s - 3ms/step - accuracy: 0.9471 - loss: 0.2438 - val_accuracy: 0.9524 - val_loss: 0.1938\n",
      "Epoch 28/30\n",
      "189/189 - 1s - 3ms/step - accuracy: 0.9492 - loss: 0.2434 - val_accuracy: 0.9524 - val_loss: 0.1934\n",
      "Epoch 29/30\n",
      "189/189 - 1s - 3ms/step - accuracy: 0.9476 - loss: 0.2429 - val_accuracy: 0.9524 - val_loss: 0.1931\n",
      "Epoch 30/30\n",
      "189/189 - 0s - 3ms/step - accuracy: 0.9481 - loss: 0.2429 - val_accuracy: 0.9524 - val_loss: 0.1929\n"
     ]
    },
    {
     "data": {
      "text/plain": [
       "<keras.src.callbacks.history.History at 0x1ebe84d1110>"
      ]
     },
     "execution_count": 65,
     "metadata": {},
     "output_type": "execute_result"
    }
   ],
   "source": [
    "model.fit(x=scaled_train_samples, y=train_labels, validation_split=0.1, batch_size=10, epochs=30, shuffle=True, verbose=2)"
   ]
  },
  {
   "cell_type": "code",
   "execution_count": 66,
   "metadata": {},
   "outputs": [
    {
     "name": "stderr",
     "output_type": "stream",
     "text": [
      "WARNING:absl:You are saving your model as an HDF5 file via `model.save()` or `keras.saving.save_model(model)`. This file format is considered legacy. We recommend using instead the native Keras format, e.g. `model.save('my_model.keras')` or `keras.saving.save_model(model, 'my_model.keras')`. \n"
     ]
    }
   ],
   "source": [
    "#save model\n",
    "\n",
    "model.save('mymodel.h5')"
   ]
  }
 ],
 "metadata": {
  "kernelspec": {
   "display_name": "venv",
   "language": "python",
   "name": "python3"
  },
  "language_info": {
   "codemirror_mode": {
    "name": "ipython",
    "version": 3
   },
   "file_extension": ".py",
   "mimetype": "text/x-python",
   "name": "python",
   "nbconvert_exporter": "python",
   "pygments_lexer": "ipython3",
   "version": "3.11.9"
  }
 },
 "nbformat": 4,
 "nbformat_minor": 2
}
