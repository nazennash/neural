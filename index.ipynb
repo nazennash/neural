{
 "cells": [
  {
   "cell_type": "code",
   "execution_count": 69,
   "metadata": {},
   "outputs": [],
   "source": [
    "import numpy as np\n",
    "from random import randint\n",
    "from sklearn.utils import shuffle"
   ]
  },
  {
   "cell_type": "code",
   "execution_count": 70,
   "metadata": {},
   "outputs": [],
   "source": [
    "train_labels = []   #target\n",
    "train_samples = []  #input"
   ]
  },
  {
   "cell_type": "code",
   "execution_count": 71,
   "metadata": {},
   "outputs": [],
   "source": [
    "# 1 - side effect, 0 - no side effect\n",
    "for i in range(50):\n",
    "    random_younger = randint(13,64)\n",
    "    train_samples.append(random_younger)\n",
    "    train_labels.append(1)\n",
    "\n",
    "    random_older = randint(65,100)\n",
    "    train_samples.append(random_older)\n",
    "    train_labels.append(0)\n",
    "\n",
    "for i in range(1000):\n",
    "    random_younger = randint(13,64)\n",
    "    train_samples.append(random_younger)\n",
    "    train_labels.append(0)\n",
    "\n",
    "    random_older = randint(65,100)\n",
    "    train_samples.append(random_older)\n",
    "    train_labels.append(1)\n"
   ]
  },
  {
   "cell_type": "code",
   "execution_count": 72,
   "metadata": {},
   "outputs": [
    {
     "name": "stdout",
     "output_type": "stream",
     "text": [
      "<class 'list'>\n",
      "<class 'list'>\n"
     ]
    }
   ],
   "source": [
    "print(type(train_labels))\n",
    "print(type(train_samples))"
   ]
  },
  {
   "cell_type": "code",
   "execution_count": 73,
   "metadata": {},
   "outputs": [
    {
     "name": "stdout",
     "output_type": "stream",
     "text": [
      "<class 'numpy.ndarray'>\n",
      "<class 'numpy.ndarray'>\n"
     ]
    }
   ],
   "source": [
    "train_labels = np.array(train_labels)\n",
    "train_samples = np.array(train_samples)\n",
    "train_labels, train_samples = shuffle(train_labels, train_samples)\n",
    "\n",
    "print(type(train_samples))\n",
    "print(type(train_labels))\n"
   ]
  },
  {
   "cell_type": "code",
   "execution_count": 74,
   "metadata": {},
   "outputs": [],
   "source": [
    "#save in a csv file\n",
    "\n",
    "import pandas as pd\n",
    "df = pd.DataFrame(train_samples, train_labels)\n",
    "df.to_csv('train.csv', index=False)\n"
   ]
  },
  {
   "cell_type": "code",
   "execution_count": 76,
   "metadata": {},
   "outputs": [
    {
     "data": {
      "text/plain": [
       "<BarContainer object of 2100 artists>"
      ]
     },
     "execution_count": 76,
     "metadata": {},
     "output_type": "execute_result"
    },
    {
     "data": {
      "image/png": "[encoded data removed]",
      "text/plain": [
       "<Figure size 1000x500 with 1 Axes>"
      ]
     },
     "metadata": {},
     "output_type": "display_data"
    }
   ],
   "source": [
    "#graph the data\n",
    "\n",
    "import matplotlib.pyplot as plt\n",
    "\n",
    "plt.figure(figsize=(10,5))\n",
    "plt.bar(train_samples, train_labels)"
   ]
  },
  {
   "cell_type": "code",
   "execution_count": 78,
   "metadata": {},
   "outputs": [
    {
     "name": "stdout",
     "output_type": "stream",
     "text": [
      "MinMaxScaler()\n"
     ]
    }
   ],
   "source": [
    "from sklearn.preprocessing import MinMaxScaler\n",
    "\n",
    "\n",
    "scaler = MinMaxScaler(feature_range=(0,1))\n",
    "scaled_train_samples = scaler.fit_transform(train_samples.reshape(-1,1))\n",
    "\n",
    "df = pd.DataFrame(scaled_train_samples, train_labels)\n",
    "df.to_csv('train1.csv', index=False)"
   ]
  },
  {
   "cell_type": "code",
   "execution_count": 80,
   "metadata": {},
   "outputs": [],
   "source": [
    "import tensorflow as tf\n",
    "import keras\n",
    "from tensorflow import keras\n",
    "from keras import layers\n",
    "from tensorflow.keras.optimizers import Adam\n",
    "from tensorflow.keras.metrics import categorical_crossentropy"
   ]
  },
  {
   "cell_type": "code",
   "execution_count": 99,
   "metadata": {},
   "outputs": [],
   "source": [
    "\n",
    "model = keras.Sequential([\n",
    "    layers.Dense(name='layer_1', units=16, input_shape=(1,), activation='relu'),\n",
    "    layers.Dense(name='layer_2', units=32, activation='relu'),\n",
    "    layers.Dense(name='layer_3', units=2, activation='softmax'),\n",
    "])"
   ]
  },
  {
   "cell_type": "code",
   "execution_count": null,
   "metadata": {},
   "outputs": [],
   "source": [
    "model = keras.Sequential()\n",
    "\n",
    "model.add(layers.Dense(name='layer_1', units=16, input_shape=(1,), activation='relu'))\n",
    "model.add(layers.Dense(name='layer_2', units=32, activation='relu'))"
   ]
  },
  {
   "cell_type": "code",
   "execution_count": 100,
   "metadata": {},
   "outputs": [
    {
     "data": {
      "text/plain": [
       "[<Dense name=layer_1, built=True>,\n",
       " <Dense name=layer_2, built=True>,\n",
       " <Dense name=layer_3, built=True>]"
      ]
     },
     "execution_count": 100,
     "metadata": {},
     "output_type": "execute_result"
    }
   ],
   "source": [
    "model.layers"
   ]
  },
  {
   "cell_type": "code",
   "execution_count": 61,
   "metadata": {},
   "outputs": [
    {
     "data": {
      "text/html": [
       "<pre style=\"white-space:pre;overflow-x:auto;line-height:normal;font-family:Menlo,'DejaVu Sans Mono',consolas,'Courier New',monospace\"><span style=\"font-weight: bold\">Model: \"sequential\"</span>\n",
       "</pre>\n"
      ],
      "text/plain": [
       "\u001b[1mModel: \"sequential\"\u001b[0m\n"
      ]
     },
     "metadata": {},
     "output_type": "display_data"
    },
    {
     "data": {
      "text/html": [
       "<pre style=\"white-space:pre;overflow-x:auto;line-height:normal;font-family:Menlo,'DejaVu Sans Mono',consolas,'Courier New',monospace\">┏━━━━━━━━━━━━━━━━━━━━━━━━━━━━━━━━━┳━━━━━━━━━━━━━━━━━━━━━━━━┳━━━━━━━━━━━━━━━┓\n",
       "┃<span style=\"font-weight: bold\"> Layer (type)                    </span>┃<span style=\"font-weight: bold\"> Output Shape           </span>┃<span style=\"font-weight: bold\">       Param # </span>┃\n",
       "┡━━━━━━━━━━━━━━━━━━━━━━━━━━━━━━━━━╇━━━━━━━━━━━━━━━━━━━━━━━━╇━━━━━━━━━━━━━━━┩\n",
       "│ dense (<span style=\"color: #0087ff; text-decoration-color: #0087ff\">Dense</span>)                   │ (<span style=\"color: #00d7ff; text-decoration-color: #00d7ff\">None</span>, <span style=\"color: #00af00; text-decoration-color: #00af00\">16</span>)             │            <span style=\"color: #00af00; text-decoration-color: #00af00\">32</span> │\n",
       "├─────────────────────────────────┼────────────────────────┼───────────────┤\n",
       "│ dense_1 (<span style=\"color: #0087ff; text-decoration-color: #0087ff\">Dense</span>)                 │ (<span style=\"color: #00d7ff; text-decoration-color: #00d7ff\">None</span>, <span style=\"color: #00af00; text-decoration-color: #00af00\">32</span>)             │           <span style=\"color: #00af00; text-decoration-color: #00af00\">544</span> │\n",
       "├─────────────────────────────────┼────────────────────────┼───────────────┤\n",
       "│ dense_2 (<span style=\"color: #0087ff; text-decoration-color: #0087ff\">Dense</span>)                 │ (<span style=\"color: #00d7ff; text-decoration-color: #00d7ff\">None</span>, <span style=\"color: #00af00; text-decoration-color: #00af00\">2</span>)              │            <span style=\"color: #00af00; text-decoration-color: #00af00\">66</span> │\n",
       "└─────────────────────────────────┴────────────────────────┴───────────────┘\n",
       "</pre>\n"
      ],
      "text/plain": [
       "┏━━━━━━━━━━━━━━━━━━━━━━━━━━━━━━━━━┳━━━━━━━━━━━━━━━━━━━━━━━━┳━━━━━━━━━━━━━━━┓\n",
       "┃\u001b[1m \u001b[0m\u001b[1mLayer (type)                   \u001b[0m\u001b[1m \u001b[0m┃\u001b[1m \u001b[0m\u001b[1mOutput Shape          \u001b[0m\u001b[1m \u001b[0m┃\u001b[1m \u001b[0m\u001b[1m      Param #\u001b[0m\u001b[1m \u001b[0m┃\n",
       "┡━━━━━━━━━━━━━━━━━━━━━━━━━━━━━━━━━╇━━━━━━━━━━━━━━━━━━━━━━━━╇━━━━━━━━━━━━━━━┩\n",
       "│ dense (\u001b[38;5;33mDense\u001b[0m)                   │ (\u001b[38;5;45mNone\u001b[0m, \u001b[38;5;34m16\u001b[0m)             │            \u001b[38;5;34m32\u001b[0m │\n",
       "├─────────────────────────────────┼────────────────────────┼───────────────┤\n",
       "│ dense_1 (\u001b[38;5;33mDense\u001b[0m)                 │ (\u001b[38;5;45mNone\u001b[0m, \u001b[38;5;34m32\u001b[0m)             │           \u001b[38;5;34m544\u001b[0m │\n",
       "├─────────────────────────────────┼────────────────────────┼───────────────┤\n",
       "│ dense_2 (\u001b[38;5;33mDense\u001b[0m)                 │ (\u001b[38;5;45mNone\u001b[0m, \u001b[38;5;34m2\u001b[0m)              │            \u001b[38;5;34m66\u001b[0m │\n",
       "└─────────────────────────────────┴────────────────────────┴───────────────┘\n"
      ]
     },
     "metadata": {},
     "output_type": "display_data"
    },
    {
     "data": {
      "text/html": [
       "<pre style=\"white-space:pre;overflow-x:auto;line-height:normal;font-family:Menlo,'DejaVu Sans Mono',consolas,'Courier New',monospace\"><span style=\"font-weight: bold\"> Total params: </span><span style=\"color: #00af00; text-decoration-color: #00af00\">642</span> (2.51 KB)\n",
       "</pre>\n"
      ],
      "text/plain": [
       "\u001b[1m Total params: \u001b[0m\u001b[38;5;34m642\u001b[0m (2.51 KB)\n"
      ]
     },
     "metadata": {},
     "output_type": "display_data"
    },
    {
     "data": {
      "text/html": [
       "<pre style=\"white-space:pre;overflow-x:auto;line-height:normal;font-family:Menlo,'DejaVu Sans Mono',consolas,'Courier New',monospace\"><span style=\"font-weight: bold\"> Trainable params: </span><span style=\"color: #00af00; text-decoration-color: #00af00\">642</span> (2.51 KB)\n",
       "</pre>\n"
      ],
      "text/plain": [
       "\u001b[1m Trainable params: \u001b[0m\u001b[38;5;34m642\u001b[0m (2.51 KB)\n"
      ]
     },
     "metadata": {},
     "output_type": "display_data"
    },
    {
     "data": {
      "text/html": [
       "<pre style=\"white-space:pre;overflow-x:auto;line-height:normal;font-family:Menlo,'DejaVu Sans Mono',consolas,'Courier New',monospace\"><span style=\"font-weight: bold\"> Non-trainable params: </span><span style=\"color: #00af00; text-decoration-color: #00af00\">0</span> (0.00 B)\n",
       "</pre>\n"
      ],
      "text/plain": [
       "\u001b[1m Non-trainable params: \u001b[0m\u001b[38;5;34m0\u001b[0m (0.00 B)\n"
      ]
     },
     "metadata": {},
     "output_type": "display_data"
    }
   ],
   "source": [
    "model.summary()"
   ]
  },
  {
   "cell_type": "code",
   "execution_count": 103,
   "metadata": {},
   "outputs": [],
   "source": [
    "model.compile(optimizer=Adam(learning_rate=0.0001), loss='sparse_categorical_crossentropy', metrics=['accuracy'])"
   ]
  },
  {
   "cell_type": "code",
   "execution_count": null,
   "metadata": {},
   "outputs": [],
   "source": [
    "# scaled_test_samples = scaler.fit_transform(test_samples.reshape(-1,1))\n",
    "# predictions = model.predict(scaled_train_samples, batch_size=10, verbose=0)"
   ]
  },
  {
   "cell_type": "code",
   "execution_count": 104,
   "metadata": {},
   "outputs": [
    {
     "name": "stdout",
     "output_type": "stream",
     "text": [
      "Epoch 1/30\n",
      "189/189 - 3s - 18ms/step - accuracy: 0.5370 - loss: 0.6602 - val_accuracy: 0.5952 - val_loss: 0.6372\n",
      "Epoch 2/30\n",
      "189/189 - 1s - 3ms/step - accuracy: 0.6021 - loss: 0.6331 - val_accuracy: 0.6524 - val_loss: 0.6087\n",
      "Epoch 3/30\n",
      "189/189 - 1s - 4ms/step - accuracy: 0.6561 - loss: 0.6078 - val_accuracy: 0.7190 - val_loss: 0.5807\n",
      "Epoch 4/30\n",
      "189/189 - 1s - 3ms/step - accuracy: 0.7280 - loss: 0.5767 - val_accuracy: 0.7571 - val_loss: 0.5485\n",
      "Epoch 5/30\n",
      "189/189 - 0s - 2ms/step - accuracy: 0.7704 - loss: 0.5485 - val_accuracy: 0.8000 - val_loss: 0.5214\n",
      "Epoch 6/30\n",
      "189/189 - 0s - 2ms/step - accuracy: 0.8011 - loss: 0.5221 - val_accuracy: 0.8286 - val_loss: 0.4943\n",
      "Epoch 7/30\n",
      "189/189 - 0s - 2ms/step - accuracy: 0.8180 - loss: 0.4962 - val_accuracy: 0.8476 - val_loss: 0.4697\n",
      "Epoch 8/30\n",
      "189/189 - 0s - 3ms/step - accuracy: 0.8392 - loss: 0.4710 - val_accuracy: 0.8762 - val_loss: 0.4448\n",
      "Epoch 9/30\n",
      "189/189 - 0s - 2ms/step - accuracy: 0.8540 - loss: 0.4468 - val_accuracy: 0.8857 - val_loss: 0.4217\n",
      "Epoch 10/30\n",
      "189/189 - 0s - 2ms/step - accuracy: 0.8683 - loss: 0.4239 - val_accuracy: 0.8952 - val_loss: 0.3989\n",
      "Epoch 11/30\n",
      "189/189 - 0s - 2ms/step - accuracy: 0.8783 - loss: 0.4030 - val_accuracy: 0.9000 - val_loss: 0.3791\n",
      "Epoch 12/30\n",
      "189/189 - 0s - 2ms/step - accuracy: 0.8857 - loss: 0.3843 - val_accuracy: 0.9095 - val_loss: 0.3623\n",
      "Epoch 13/30\n",
      "189/189 - 1s - 4ms/step - accuracy: 0.8921 - loss: 0.3678 - val_accuracy: 0.9143 - val_loss: 0.3465\n",
      "Epoch 14/30\n",
      "189/189 - 0s - 3ms/step - accuracy: 0.9016 - loss: 0.3532 - val_accuracy: 0.9286 - val_loss: 0.3328\n",
      "Epoch 15/30\n",
      "189/189 - 0s - 3ms/step - accuracy: 0.9005 - loss: 0.3407 - val_accuracy: 0.9333 - val_loss: 0.3230\n",
      "Epoch 16/30\n",
      "189/189 - 0s - 2ms/step - accuracy: 0.9106 - loss: 0.3306 - val_accuracy: 0.9333 - val_loss: 0.3112\n",
      "Epoch 17/30\n",
      "189/189 - 0s - 2ms/step - accuracy: 0.9111 - loss: 0.3218 - val_accuracy: 0.9333 - val_loss: 0.3038\n",
      "Epoch 18/30\n",
      "189/189 - 0s - 3ms/step - accuracy: 0.9148 - loss: 0.3142 - val_accuracy: 0.9333 - val_loss: 0.2951\n",
      "Epoch 19/30\n",
      "189/189 - 0s - 3ms/step - accuracy: 0.9153 - loss: 0.3081 - val_accuracy: 0.9333 - val_loss: 0.2897\n",
      "Epoch 20/30\n",
      "189/189 - 0s - 2ms/step - accuracy: 0.9201 - loss: 0.3028 - val_accuracy: 0.9333 - val_loss: 0.2846\n",
      "Epoch 21/30\n",
      "189/189 - 1s - 3ms/step - accuracy: 0.9180 - loss: 0.2984 - val_accuracy: 0.9333 - val_loss: 0.2805\n",
      "Epoch 22/30\n",
      "189/189 - 1s - 5ms/step - accuracy: 0.9228 - loss: 0.2946 - val_accuracy: 0.9333 - val_loss: 0.2757\n",
      "Epoch 23/30\n",
      "189/189 - 1s - 6ms/step - accuracy: 0.9212 - loss: 0.2914 - val_accuracy: 0.9333 - val_loss: 0.2721\n",
      "Epoch 24/30\n",
      "189/189 - 1s - 3ms/step - accuracy: 0.9222 - loss: 0.2884 - val_accuracy: 0.9571 - val_loss: 0.2704\n",
      "Epoch 25/30\n",
      "189/189 - 1s - 4ms/step - accuracy: 0.9212 - loss: 0.2861 - val_accuracy: 0.9571 - val_loss: 0.2680\n",
      "Epoch 26/30\n",
      "189/189 - 0s - 2ms/step - accuracy: 0.9254 - loss: 0.2838 - val_accuracy: 0.9333 - val_loss: 0.2641\n",
      "Epoch 27/30\n",
      "189/189 - 0s - 2ms/step - accuracy: 0.9265 - loss: 0.2819 - val_accuracy: 0.9333 - val_loss: 0.2617\n",
      "Epoch 28/30\n",
      "189/189 - 1s - 4ms/step - accuracy: 0.9259 - loss: 0.2801 - val_accuracy: 0.9571 - val_loss: 0.2602\n",
      "Epoch 29/30\n",
      "189/189 - 0s - 2ms/step - accuracy: 0.9238 - loss: 0.2783 - val_accuracy: 0.9571 - val_loss: 0.2592\n",
      "Epoch 30/30\n",
      "189/189 - 0s - 2ms/step - accuracy: 0.9291 - loss: 0.2770 - val_accuracy: 0.9571 - val_loss: 0.2565\n"
     ]
    },
    {
     "data": {
      "text/plain": [
       "<keras.src.callbacks.history.History at 0x1ebec910c10>"
      ]
     },
     "execution_count": 104,
     "metadata": {},
     "output_type": "execute_result"
    }
   ],
   "source": [
    "model.fit(x=scaled_train_samples, y=train_labels, validation_split=0.1, batch_size=10, epochs=30, shuffle=True, verbose=2)"
   ]
  },
  {
   "cell_type": "code",
   "execution_count": 105,
   "metadata": {},
   "outputs": [
    {
     "name": "stderr",
     "output_type": "stream",
     "text": [
      "WARNING:absl:You are saving your model as an HDF5 file via `model.save()` or `keras.saving.save_model(model)`. This file format is considered legacy. We recommend using instead the native Keras format, e.g. `model.save('my_model.keras')` or `keras.saving.save_model(model, 'my_model.keras')`. \n"
     ]
    }
   ],
   "source": [
    "#save model\n",
    "\n",
    "model.save('mymodel.h5')"
   ]
  }
 ],
 "metadata": {
  "kernelspec": {
   "display_name": "venv",
   "language": "python",
   "name": "python3"
  },
  "language_info": {
   "codemirror_mode": {
    "name": "ipython",
    "version": 3
   },
   "file_extension": ".py",
   "mimetype": "text/x-python",
   "name": "python",
   "nbconvert_exporter": "python",
   "pygments_lexer": "ipython3",
   "version": "3.11.9"
  }
 },
 "nbformat": 4,
 "nbformat_minor": 2
}
